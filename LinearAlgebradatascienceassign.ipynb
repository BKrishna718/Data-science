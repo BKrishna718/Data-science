{
 "cells": [
  {
   "cell_type": "code",
   "execution_count": 2,
   "metadata": {},
   "outputs": [],
   "source": [
    "import numpy as np"
   ]
  },
  {
   "cell_type": "code",
   "execution_count": null,
   "metadata": {},
   "outputs": [],
   "source": [
    "Question 1"
   ]
  },
  {
   "cell_type": "code",
   "execution_count": 6,
   "metadata": {},
   "outputs": [
    {
     "name": "stdout",
     "output_type": "stream",
     "text": [
      "[[ 3  1]\n",
      " [-3  7]]\n",
      "[[ 5  0]\n",
      " [-9 12]]\n",
      "[[ 4 -7]\n",
      " [ 6  1]]\n"
     ]
    }
   ],
   "source": [
    "A = np.array([[2,-1],[0,3]])\n",
    "B = np.array([[1,2],[-3,4]])\n",
    "\n",
    "#For question 1(a)\n",
    "print(A+B)\n",
    "\n",
    "#For question 1(b)\n",
    "print(A @ B)\n",
    "\n",
    "#For question 1(c)\n",
    "print(3*A-2*B)\n"
   ]
  },
  {
   "cell_type": "markdown",
   "metadata": {},
   "source": [
    "Question 2"
   ]
  },
  {
   "cell_type": "code",
   "execution_count": 9,
   "metadata": {},
   "outputs": [
    {
     "name": "stdout",
     "output_type": "stream",
     "text": [
      "The determinant of matrix A is: 6.0\n",
      "\n",
      "Inverse of matrix A exists.\n",
      "The inverse of the matrix A is:\n",
      "[[0.5        0.16666667]\n",
      " [0.         0.33333333]]\n"
     ]
    }
   ],
   "source": [
    "#For question 2(a)\n",
    "det = round(np.linalg.det(A),2)\n",
    "print(f\"The determinant of matrix A is: {det}\")\n",
    "\n",
    "print()\n",
    "#For question 2(b)\n",
    "if(not det==0):\n",
    "    print(\"Inverse of matrix A exists.\")\n",
    "    inverse = np.linalg.inv(A)\n",
    "    print(\"The inverse of the matrix A is:\")\n",
    "    print(inverse)\n",
    "else:\n",
    "    print(\"Inverse of matrix A doesn't exist.\")"
   ]
  },
  {
   "cell_type": "markdown",
   "metadata": {},
   "source": [
    "Question 3\n"
   ]
  },
  {
   "cell_type": "code",
   "execution_count": 12,
   "metadata": {},
   "outputs": [
    {
     "name": "stdout",
     "output_type": "stream",
     "text": [
      "The eigen values of matrix A are: [2. 3.]\n",
      "\n",
      "The eigen vectors of matrix A are: [[ 1.         -0.70710678]\n",
      " [ 0.          0.70710678]]\n"
     ]
    }
   ],
   "source": [
    "C = np.array([[4,1],[-2,1]])\n",
    "egval,egvec = np.linalg.eig(A)\n",
    "print(f\"The eigen values of matrix A are: {egval}\")\n",
    "print()\n",
    "print(f\"The eigen vectors of matrix A are: {egvec}\")"
   ]
  },
  {
   "cell_type": "code",
   "execution_count": null,
   "metadata": {},
   "outputs": [],
   "source": [
    "Question 4"
   ]
  },
  {
   "cell_type": "code",
   "execution_count": 3,
   "metadata": {},
   "outputs": [
    {
     "name": "stdout",
     "output_type": "stream",
     "text": [
      "The price of the car X3 is: 39.999999999998806\n"
     ]
    }
   ],
   "source": [
    "\n",
    "F = np.array([[4,1.5,100],[6,2.0,150]])\n",
    "Pr = np.array([[20],[30]])\n",
    "inverse = np.linalg.pinv(F.T @ F)\n",
    "B = inverse @ F.T @ Pr\n",
    "X = np.array([[8,3.0,200]])\n",
    "price = np.linalg.det(X @ B)\n",
    "print(f\"The price of the car X3 is: {price}\")\n",
    "\n"
   ]
  }
 ],
 "metadata": {
  "kernelspec": {
   "display_name": "Python 3",
   "language": "python",
   "name": "python3"
  },
  "language_info": {
   "codemirror_mode": {
    "name": "ipython",
    "version": 3
   },
   "file_extension": ".py",
   "mimetype": "text/x-python",
   "name": "python",
   "nbconvert_exporter": "python",
   "pygments_lexer": "ipython3",
   "version": "3.13.0"
  }
 },
 "nbformat": 4,
 "nbformat_minor": 2
}
